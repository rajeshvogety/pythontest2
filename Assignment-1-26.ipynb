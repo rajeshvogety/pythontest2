{
 "cells": [
  {
   "cell_type": "code",
   "execution_count": null,
   "metadata": {
    "collapsed": true
   },
   "outputs": [],
   "source": [
    "#### Need to write 7, 13, 22 (1,2)"
   ]
  },
  {
   "cell_type": "code",
   "execution_count": 30,
   "metadata": {
    "collapsed": false
   },
   "outputs": [
    {
     "name": "stdout",
     "output_type": "stream",
     "text": [
      "Enter a string: pro\n",
      "Not a substring\n"
     ]
    }
   ],
   "source": [
    "# Assignment 2: Given substring in String (case sensitive)\n",
    "str = \"Python Programming\"\n",
    "a = raw_input(\"Enter a string: \")\n",
    "if a in str:\n",
    "    print \"Substring\"\n",
    "else:\n",
    "    print \"Not a substring\""
   ]
  },
  {
   "cell_type": "code",
   "execution_count": 6,
   "metadata": {
    "collapsed": false
   },
   "outputs": [
    {
     "name": "stdout",
     "output_type": "stream",
     "text": [
      "Enter value: 25\n",
      "Enter number is odd\n"
     ]
    }
   ],
   "source": [
    "#Assignment 3: Even or odd\n",
    "a = input(\"Enter value: \")\n",
    "if a == 1:\n",
    "    print \"Entered number is odd\"\n",
    "elif(a % 2 ==0):\n",
    "    print \"Entered number is even\"\n",
    "else:\n",
    "    print \"Enter number is odd\"\n",
    "\n"
   ]
  },
  {
   "cell_type": "code",
   "execution_count": null,
   "metadata": {
    "collapsed": true
   },
   "outputs": [],
   "source": [
    "# Assignment"
   ]
  },
  {
   "cell_type": "code",
   "execution_count": 27,
   "metadata": {
    "collapsed": false
   },
   "outputs": [
    {
     "name": "stdout",
     "output_type": "stream",
     "text": [
      "Enter a value: 10\n",
      "Entered number is not prime\n",
      "2\n"
     ]
    }
   ],
   "source": [
    "#Assignment 4: Prime or not\n",
    "a = input(\"Enter a value: \")\n",
    "if a > 1:\n",
    "    for i in range(2,a):\n",
    "        if (a % i) == 0:\n",
    "            print \"Entered number is not prime\"\n",
    "            print i\n",
    "            break\n",
    "    else: \n",
    "        print \"Entered number is prime\"\n",
    "        \n",
    "else:\n",
    "    print \"Entered number is not prime\""
   ]
  },
  {
   "cell_type": "code",
   "execution_count": 14,
   "metadata": {
    "collapsed": false
   },
   "outputs": [
    {
     "name": "stdout",
     "output_type": "stream",
     "text": [
      "Enter a value: sadf\n",
      "Not a number\n"
     ]
    }
   ],
   "source": [
    "# Assignment 5: Numeric or not\n",
    "a = raw_input(\"Enter a value: \")\n",
    "if a.isdigit() == True:\n",
    "    print \"Number \"\n",
    "else:\n",
    "    print \"Not a number\"\n",
    "    "
   ]
  },
  {
   "cell_type": "code",
   "execution_count": 4,
   "metadata": {
    "collapsed": false
   },
   "outputs": [
    {
     "name": "stdout",
     "output_type": "stream",
     "text": [
      "Enter a value: sdf\n",
      "Alpha\n"
     ]
    }
   ],
   "source": [
    "# Assignment 6 : Contains upper or not\n",
    "str = raw_input(\"Enter a value: \")\n",
    "if str.isalpha():\n",
    "    print \"Alpha\"\n",
    "else: \n",
    "    print \"Not Alpha\"\n",
    "    "
   ]
  },
  {
   "cell_type": "code",
   "execution_count": 1,
   "metadata": {
    "collapsed": false
   },
   "outputs": [
    {
     "name": "stdout",
     "output_type": "stream",
     "text": [
      "Enter a value: Test\n",
      " Not Upper\n"
     ]
    }
   ],
   "source": [
    "#Assignment 8: Capital or small\n",
    "str = raw_input(\"Enter a value: \")\n",
    "if str.isupper():\n",
    "    print \"Upper\"\n",
    "else: \n",
    "    print \" Not Upper\""
   ]
  },
  {
   "cell_type": "code",
   "execution_count": 6,
   "metadata": {
    "collapsed": false
   },
   "outputs": [
    {
     "name": "stdout",
     "output_type": "stream",
     "text": [
      "Enter a value: test\n",
      "Lower\n"
     ]
    }
   ],
   "source": [
    "#Assignment 9: Capital or small\n",
    "str = raw_input(\"Enter a value: \")\n",
    "if str.islower():\n",
    "    print \"Lower\"\n",
    "else: \n",
    "    print \" Not Lower\""
   ]
  },
  {
   "cell_type": "code",
   "execution_count": 6,
   "metadata": {
    "collapsed": false
   },
   "outputs": [
    {
     "name": "stdout",
     "output_type": "stream",
     "text": [
      "Menu: \n",
      "1.Windows \n",
      "2.Linux \n",
      "3.Mac\n",
      "4.Quit\n",
      "Enter your choice: 4\n"
     ]
    }
   ],
   "source": [
    "#Assignment 10: \n",
    "print \"Menu: \\n1.Windows \\n2.Linux \\n3.Mac\\n4.Quit\"\n",
    "a = input(\"Enter your choice: \")\n",
    "while (a > 1)\n",
    "    if a == 1:\n",
    "        print \"You selected Windows\"\n",
    "        break\n",
    "    elif a == 2:\n",
    "        print \"You selected Linux\"\n",
    "        break\n",
    "    elif a == 3:\n",
    "        print \"You selected Mac\"\n",
    "        break\n",
    "    else:\n",
    "        print\"Invalid Choice\"\n",
    "        break\n"
   ]
  },
  {
   "cell_type": "code",
   "execution_count": 6,
   "metadata": {
    "collapsed": false
   },
   "outputs": [
    {
     "name": "stdout",
     "output_type": "stream",
     "text": [
      "Enter a string: as123\n"
     ]
    }
   ],
   "source": [
    "#Assignment 11: atleast one numeric\n",
    "a = raw_input(\"Enter a string: \")\n",
    "for i in a:\n",
    "    if i.isdigit():\n",
    "        print \"Contains Digits\"\n",
    "        break\n",
    "        \n"
   ]
  },
  {
   "cell_type": "code",
   "execution_count": 8,
   "metadata": {
    "collapsed": false
   },
   "outputs": [
    {
     "name": "stdout",
     "output_type": "stream",
     "text": [
      "Enter a stringasdfd\n",
      "Contains alphabets\n"
     ]
    }
   ],
   "source": [
    "#Assignment 12: atleast one alpha\n",
    "a = raw_input(\"Enter a string\")\n",
    "for i in a:\n",
    "    if i.isalpha():\n",
    "        print \"Contains alphabets\"\n",
    "        break"
   ]
  },
  {
   "cell_type": "code",
   "execution_count": 20,
   "metadata": {
    "collapsed": false
   },
   "outputs": [
    {
     "name": "stdout",
     "output_type": "stream",
     "text": [
      "Enter a stringasdfA\n",
      "Contains Upper Characters\n"
     ]
    }
   ],
   "source": [
    "#Assignment 14: atleast one Upper\n",
    "a = raw_input(\"Enter a string\")\n",
    "for i in a:\n",
    "    if i.isupper():\n",
    "        print \"Contains Upper Characters\"\n",
    "        break"
   ]
  },
  {
   "cell_type": "code",
   "execution_count": 22,
   "metadata": {
    "collapsed": false
   },
   "outputs": [
    {
     "name": "stdout",
     "output_type": "stream",
     "text": [
      "Enter a stringADD\n"
     ]
    }
   ],
   "source": [
    "#Assignment 15: atleast on Lower\n",
    "a = raw_input(\"Enter a string\")\n",
    "for i in a:\n",
    "    if i.islower():\n",
    "        print \"Contains Lower Characters\"\n",
    "        break"
   ]
  },
  {
   "cell_type": "code",
   "execution_count": 1,
   "metadata": {
    "collapsed": false
   },
   "outputs": [
    {
     "name": "stdout",
     "output_type": "stream",
     "text": [
      "Enter total number of people: 100\n",
      "Enter total number buses: 10\n",
      "Enter number of seats per bus: 5\n",
      "Buses are not sufficient\n",
      "Addition Buses required are:  10\n"
     ]
    }
   ],
   "source": [
    "#Assignment 16 buses\n",
    "tp = input(\"Enter total number of people: \")\n",
    "tb = input(\"Enter total number buses: \")\n",
    "ns = input(\"Enter number of seats per bus: \")\n",
    "if (tp <= tb * ns):\n",
    "    print \"Buses are sufficient\"\n",
    "else:\n",
    "    print \"Buses are not sufficient\"\n",
    "    cap = tb * ns #capacity\n",
    "    rp = tp - cap    # Remaining people\n",
    "    bn = rp / ns # buses needed\n",
    "    print \"Addition Buses required are: \", bn\n",
    "    \n",
    "\n",
    "    "
   ]
  },
  {
   "cell_type": "code",
   "execution_count": 27,
   "metadata": {
    "collapsed": false
   },
   "outputs": [
    {
     "name": "stdout",
     "output_type": "stream",
     "text": [
      "1\n",
      "3\n",
      "5\n",
      "7\n",
      "9\n",
      "11\n",
      "13\n",
      "15\n",
      "17\n",
      "19\n"
     ]
    }
   ],
   "source": [
    "# Assignment 17: First 100 odd ( Tested with 10, need to increase value in while loop as per the requirement)\n",
    "i = 1\n",
    "count = 1\n",
    "while (count <= 10):\n",
    "    if i%2 !=0:\n",
    "        print i\n",
    "        count = count + 1\n",
    "    i = i+1\n",
    "    \n"
   ]
  },
  {
   "cell_type": "code",
   "execution_count": 5,
   "metadata": {
    "collapsed": false
   },
   "outputs": [
    {
     "name": "stdout",
     "output_type": "stream",
     "text": [
      "Enter a number: 20\n",
      "1\n",
      "2\n",
      "4\n",
      "5\n",
      "10\n"
     ]
    }
   ],
   "source": [
    "# Assignment 18: Factors\n",
    "a = input(\"Enter a number: \")\n",
    "for i in range(1,a):\n",
    "    if (a % i == 0):\n",
    "        print  i\n",
    "    i = i + 1"
   ]
  },
  {
   "cell_type": "code",
   "execution_count": 29,
   "metadata": {
    "collapsed": false
   },
   "outputs": [
    {
     "name": "stdout",
     "output_type": "stream",
     "text": [
      "Guess a number: 45\n",
      "Low\n"
     ]
    }
   ],
   "source": [
    "# Assignment 19: Guessing Game\n",
    "a = input (\"Guess a number: \")\n",
    "if a <= 50:\n",
    "    print \"Low\"\n",
    "elif a > 50 & a <= 100:\n",
    "    print \"Hi\"\n",
    "else:\n",
    "    print \"Wrong choice\"\n",
    "    "
   ]
  },
  {
   "cell_type": "code",
   "execution_count": 11,
   "metadata": {
    "collapsed": false
   },
   "outputs": [
    {
     "name": "stdout",
     "output_type": "stream",
     "text": [
      "Enter A value: 10\n",
      "Enter B value: 5\n",
      "A is divisble by B\n"
     ]
    }
   ],
   "source": [
    "# Assignment 20: Divisble by\n",
    "a = input(\"Enter A value: \")\n",
    "b = input(\"Enter B value: \")\n",
    "if a % b == 0:\n",
    "    print \"A is divisble by B\"\n",
    "else: \n",
    "    print \"A is not divisble by B\"\n",
    "\n",
    "    "
   ]
  },
  {
   "cell_type": "code",
   "execution_count": 8,
   "metadata": {
    "collapsed": false
   },
   "outputs": [
    {
     "name": "stdout",
     "output_type": "stream",
     "text": [
      "Enter Age: 4\n",
      "Todler\n"
     ]
    }
   ],
   "source": [
    "#Assignment 21: Baby\n",
    "a = input (\"Enter Age: \")\n",
    "if a >= 60:\n",
    "    print \"Old coder\"\n",
    "elif a >= 20:\n",
    "    print \"Adult\"\n",
    "elif a >= 14:\n",
    "    print \"Teenager\"\n",
    "elif a >= 5:\n",
    "    print \"child\"\n",
    "elif a >= 2:\n",
    "    print \"Todler\"\n",
    "else:\n",
    "    print \"Baby\"\n",
    "    "
   ]
  },
  {
   "cell_type": "code",
   "execution_count": 6,
   "metadata": {
    "collapsed": false
   },
   "outputs": [
    {
     "name": "stdout",
     "output_type": "stream",
     "text": [
      "Enter A value: 20\n",
      "Enter B value: 30\n",
      "A is smaller than B\n"
     ]
    }
   ],
   "source": [
    "# Assignment 23: Biggest of two \n",
    "a = input(\"Enter A value: \")\n",
    "b = input(\"Enter B value: \")\n",
    "if a > b:\n",
    "    print \"A is greater than B\"\n",
    "else: \n",
    "    print \"A is smaller than B\""
   ]
  },
  {
   "cell_type": "code",
   "execution_count": 9,
   "metadata": {
    "collapsed": false
   },
   "outputs": [
    {
     "name": "stdout",
     "output_type": "stream",
     "text": [
      "Enter List values: 25,95,54,1526\n",
      "1526\n"
     ]
    }
   ],
   "source": [
    "# Assignment 24: Biggest of given numbers\n",
    "a = []\n",
    "a = input(\"Enter List values: \")\n",
    "print max(a)\n"
   ]
  },
  {
   "cell_type": "code",
   "execution_count": null,
   "metadata": {
    "collapsed": true
   },
   "outputs": [],
   "source": []
  }
 ],
 "metadata": {
  "kernelspec": {
   "display_name": "Python 2",
   "language": "python",
   "name": "python2"
  },
  "language_info": {
   "codemirror_mode": {
    "name": "ipython",
    "version": 2
   },
   "file_extension": ".py",
   "mimetype": "text/x-python",
   "name": "python",
   "nbconvert_exporter": "python",
   "pygments_lexer": "ipython2",
   "version": "2.7.13"
  }
 },
 "nbformat": 4,
 "nbformat_minor": 2
}
