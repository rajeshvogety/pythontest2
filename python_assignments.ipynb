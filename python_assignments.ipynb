{
 "cells": [
  {
   "cell_type": "code",
   "execution_count": null,
   "metadata": {
    "collapsed": true
   },
   "outputs": [],
   "source": [
    "#### Wrote 38 out of 72"
   ]
  },
  {
   "cell_type": "code",
   "execution_count": 30,
   "metadata": {
    "collapsed": false
   },
   "outputs": [
    {
     "name": "stdout",
     "output_type": "stream",
     "text": [
      "Enter a string: pro\n",
      "Not a substring\n"
     ]
    }
   ],
   "source": [
    "# Assignment 2: Given substring in String (case sensitive)\n",
    "str = \"Python Programming\"\n",
    "a = raw_input(\"Enter a string: \")\n",
    "if a in str:\n",
    "    print \"Substring\"\n",
    "else:\n",
    "    print \"Not a substring\""
   ]
  },
  {
   "cell_type": "code",
   "execution_count": 6,
   "metadata": {
    "collapsed": false
   },
   "outputs": [
    {
     "name": "stdout",
     "output_type": "stream",
     "text": [
      "Enter value: 25\n",
      "Enter number is odd\n"
     ]
    }
   ],
   "source": [
    "#Assignment 3: Even or odd\n",
    "a = input(\"Enter value: \")\n",
    "if a == 1:\n",
    "    print \"Entered number is odd\"\n",
    "elif(a % 2 ==0):\n",
    "    print \"Entered number is even\"\n",
    "else:\n",
    "    print \"Enter number is odd\"\n",
    "\n"
   ]
  },
  {
   "cell_type": "code",
   "execution_count": 27,
   "metadata": {
    "collapsed": false
   },
   "outputs": [
    {
     "name": "stdout",
     "output_type": "stream",
     "text": [
      "Enter a value: 10\n",
      "Entered number is not prime\n",
      "2\n"
     ]
    }
   ],
   "source": [
    "#Assignment 4: Prime or not\n",
    "a = input(\"Enter a value: \")\n",
    "if a > 1:\n",
    "    for i in range(2,a):\n",
    "        if (a % i) == 0:\n",
    "            print \"Entered number is not prime\"\n",
    "            print i\n",
    "            break\n",
    "    else: \n",
    "        print \"Entered number is prime\"\n",
    "        \n",
    "else:\n",
    "    print \"Entered number is not prime\""
   ]
  },
  {
   "cell_type": "code",
   "execution_count": 14,
   "metadata": {
    "collapsed": false
   },
   "outputs": [
    {
     "name": "stdout",
     "output_type": "stream",
     "text": [
      "Enter a value: sadf\n",
      "Not a number\n"
     ]
    }
   ],
   "source": [
    "# Assignment 5: Numeric or not\n",
    "a = raw_input(\"Enter a value: \")\n",
    "if a.isdigit() == True:\n",
    "    print \"Number \"\n",
    "else:\n",
    "    print \"Not a number\"\n",
    "    "
   ]
  },
  {
   "cell_type": "code",
   "execution_count": 4,
   "metadata": {
    "collapsed": false
   },
   "outputs": [
    {
     "name": "stdout",
     "output_type": "stream",
     "text": [
      "Enter a value: sdf\n",
      "Alpha\n"
     ]
    }
   ],
   "source": [
    "# Assignment 6 : Contains upper or not\n",
    "str = raw_input(\"Enter a value: \")\n",
    "if str.isalpha():\n",
    "    print \"Alpha\"\n",
    "else: \n",
    "    print \"Not Alpha\"\n",
    "    "
   ]
  },
  {
   "cell_type": "code",
   "execution_count": 30,
   "metadata": {
    "collapsed": false
   },
   "outputs": [
    {
     "name": "stdout",
     "output_type": "stream",
     "text": [
      "Enter a stringasdf#\n",
      "Contains special characters\n"
     ]
    }
   ],
   "source": [
    "# Assignment 7: take a string from the user and check contains only  special chars or not?\n",
    "a = raw_input(\"Enter a string\")\n",
    "if not a.isalpha():\n",
    "    print \"Contains special characters\"\n",
    "else:\n",
    "    print \"Contains no special characters\""
   ]
  },
  {
   "cell_type": "code",
   "execution_count": 1,
   "metadata": {
    "collapsed": false
   },
   "outputs": [
    {
     "name": "stdout",
     "output_type": "stream",
     "text": [
      "Enter a value: Test\n",
      " Not Upper\n"
     ]
    }
   ],
   "source": [
    "#Assignment 8: Capital or small\n",
    "str = raw_input(\"Enter a value: \")\n",
    "if str.isupper():\n",
    "    print \"Upper\"\n",
    "else: \n",
    "    print \" Not Upper\""
   ]
  },
  {
   "cell_type": "code",
   "execution_count": 6,
   "metadata": {
    "collapsed": false
   },
   "outputs": [
    {
     "name": "stdout",
     "output_type": "stream",
     "text": [
      "Enter a value: test\n",
      "Lower\n"
     ]
    }
   ],
   "source": [
    "#Assignment 9: Capital or small\n",
    "str = raw_input(\"Enter a value: \")\n",
    "if str.islower():\n",
    "    print \"Lower\"\n",
    "else: \n",
    "    print \" Not Lower\""
   ]
  },
  {
   "cell_type": "code",
   "execution_count": 25,
   "metadata": {
    "collapsed": false
   },
   "outputs": [
    {
     "name": "stdout",
     "output_type": "stream",
     "text": [
      "Menu: \n",
      "1.Windows \n",
      "2.Linux \n",
      "3.Mac\n",
      "4.Quit\n",
      "Enter your choice: 2\n",
      "You selected Linux\n"
     ]
    }
   ],
   "source": [
    "#Assignment 10: \n",
    "print \"Menu: \\n1.Windows \\n2.Linux \\n3.Mac\\n4.Quit\"\n",
    "a = input(\"Enter your choice: \")\n",
    "if a == 1:\n",
    "    print \"You selected Windows\"\n",
    "elif a == 2:\n",
    "    print \"You selected Linux\"\n",
    "elif a == 3:\n",
    "    print \"You selected Mac\"\n",
    "elif a == 4:\n",
    "    print \"Quitting\"\n",
    "else:\n",
    "    print\"Invalid Choice\"\n",
    "        \n"
   ]
  },
  {
   "cell_type": "code",
   "execution_count": 18,
   "metadata": {
    "collapsed": false
   },
   "outputs": [
    {
     "name": "stdout",
     "output_type": "stream",
     "text": [
      "Enter a string: 23ssd\n",
      "Contains Digits\n"
     ]
    }
   ],
   "source": [
    "#Assignment 11: atleast one numeric\n",
    "a = raw_input(\"Enter a string: \")\n",
    "for i in a:\n",
    "    if i.isdigit():\n",
    "        print \"Contains Digits\"\n",
    "        break\n",
    "else:\n",
    "    print \"string has no digits\"\n",
    "        \n"
   ]
  },
  {
   "cell_type": "code",
   "execution_count": 8,
   "metadata": {
    "collapsed": false
   },
   "outputs": [
    {
     "name": "stdout",
     "output_type": "stream",
     "text": [
      "Enter a stringasdfd\n",
      "Contains alphabets\n"
     ]
    }
   ],
   "source": [
    "#Assignment 12: atleast one alpha\n",
    "a = raw_input(\"Enter a string\")\n",
    "for i in a:\n",
    "    if i.isalpha():\n",
    "        print \"Contains alphabets\"\n",
    "        break"
   ]
  },
  {
   "cell_type": "code",
   "execution_count": 33,
   "metadata": {
    "collapsed": false
   },
   "outputs": [],
   "source": [
    "# Assignment 13: take a string from the user and check contains atleast one chars or not?\n"
   ]
  },
  {
   "cell_type": "code",
   "execution_count": 20,
   "metadata": {
    "collapsed": false
   },
   "outputs": [
    {
     "name": "stdout",
     "output_type": "stream",
     "text": [
      "Enter a stringasdfA\n",
      "Contains Upper Characters\n"
     ]
    }
   ],
   "source": [
    "#Assignment 14: atleast one Upper\n",
    "a = raw_input(\"Enter a string\")\n",
    "for i in a:\n",
    "    if i.isupper():\n",
    "        print \"Contains Upper Characters\"\n",
    "        break"
   ]
  },
  {
   "cell_type": "code",
   "execution_count": 22,
   "metadata": {
    "collapsed": false
   },
   "outputs": [
    {
     "name": "stdout",
     "output_type": "stream",
     "text": [
      "Enter a stringADD\n"
     ]
    }
   ],
   "source": [
    "#Assignment 15: atleast on Lower\n",
    "a = raw_input(\"Enter a string\")\n",
    "for i in a:\n",
    "    if i.islower():\n",
    "        print \"Contains Lower Characters\"\n",
    "        break"
   ]
  },
  {
   "cell_type": "code",
   "execution_count": 1,
   "metadata": {
    "collapsed": false
   },
   "outputs": [
    {
     "name": "stdout",
     "output_type": "stream",
     "text": [
      "Enter total number of people: 100\n",
      "Enter total number buses: 10\n",
      "Enter number of seats per bus: 5\n",
      "Buses are not sufficient\n",
      "Addition Buses required are:  10\n"
     ]
    }
   ],
   "source": [
    "#Assignment 16 buses\n",
    "tp = input(\"Enter total number of people: \")\n",
    "tb = input(\"Enter total number buses: \")\n",
    "ns = input(\"Enter number of seats per bus: \")\n",
    "if (tp <= tb * ns):\n",
    "    print \"Buses are sufficient\"\n",
    "else:\n",
    "    print \"Buses are not sufficient\"\n",
    "    cap = tb * ns #capacity\n",
    "    rp = tp - cap    # Remaining people\n",
    "    bn = rp / ns # buses needed\n",
    "    print \"Addition Buses required are: \", bn\n",
    "    \n",
    "\n",
    "    "
   ]
  },
  {
   "cell_type": "code",
   "execution_count": 27,
   "metadata": {
    "collapsed": false
   },
   "outputs": [
    {
     "name": "stdout",
     "output_type": "stream",
     "text": [
      "1\n",
      "3\n",
      "5\n",
      "7\n",
      "9\n",
      "11\n",
      "13\n",
      "15\n",
      "17\n",
      "19\n"
     ]
    }
   ],
   "source": [
    "# Assignment 17: First 100 odd ( Tested with 10, need to increase value in while loop as per the requirement)\n",
    "i = 1\n",
    "count = 1\n",
    "while (count <= 10):\n",
    "    if i%2 !=0:\n",
    "        print i\n",
    "        count = count + 1\n",
    "    i = i+1\n",
    "    \n"
   ]
  },
  {
   "cell_type": "code",
   "execution_count": 5,
   "metadata": {
    "collapsed": false
   },
   "outputs": [
    {
     "name": "stdout",
     "output_type": "stream",
     "text": [
      "Enter a number: 20\n",
      "1\n",
      "2\n",
      "4\n",
      "5\n",
      "10\n"
     ]
    }
   ],
   "source": [
    "# Assignment 18: Factors\n",
    "a = input(\"Enter a number: \")\n",
    "for i in range(1,a):\n",
    "    if (a % i == 0):\n",
    "        print  i\n",
    "    i = i + 1"
   ]
  },
  {
   "cell_type": "code",
   "execution_count": 29,
   "metadata": {
    "collapsed": false
   },
   "outputs": [
    {
     "name": "stdout",
     "output_type": "stream",
     "text": [
      "Guess a number: 45\n",
      "Low\n"
     ]
    }
   ],
   "source": [
    "# Assignment 19: Guessing Game\n",
    "a = input (\"Guess a number: \")\n",
    "if a <= 50:\n",
    "    print \"Low\"\n",
    "elif a > 50 & a <= 100:\n",
    "    print \"Hi\"\n",
    "else:\n",
    "    print \"Wrong choice\"\n",
    "    "
   ]
  },
  {
   "cell_type": "code",
   "execution_count": 11,
   "metadata": {
    "collapsed": false
   },
   "outputs": [
    {
     "name": "stdout",
     "output_type": "stream",
     "text": [
      "Enter A value: 10\n",
      "Enter B value: 5\n",
      "A is divisble by B\n"
     ]
    }
   ],
   "source": [
    "# Assignment 20: Divisble by\n",
    "a = input(\"Enter A value: \")\n",
    "b = input(\"Enter B value: \")\n",
    "if a % b == 0:\n",
    "    print \"A is divisble by B\"\n",
    "else: \n",
    "    print \"A is not divisble by B\"\n",
    "\n",
    "    "
   ]
  },
  {
   "cell_type": "code",
   "execution_count": 8,
   "metadata": {
    "collapsed": false
   },
   "outputs": [
    {
     "name": "stdout",
     "output_type": "stream",
     "text": [
      "Enter Age: 4\n",
      "Todler\n"
     ]
    }
   ],
   "source": [
    "#Assignment 21: Baby\n",
    "a = input (\"Enter Age: \")\n",
    "if a >= 60:\n",
    "    print \"Old coder\"\n",
    "elif a >= 20:\n",
    "    print \"Adult\"\n",
    "elif a >= 14:\n",
    "    print \"Teenager\"\n",
    "elif a >= 5:\n",
    "    print \"child\"\n",
    "elif a >= 2:\n",
    "    print \"Todler\"\n",
    "else:\n",
    "    print \"Baby\"\n",
    "    "
   ]
  },
  {
   "cell_type": "code",
   "execution_count": 47,
   "metadata": {
    "collapsed": false
   },
   "outputs": [
    {
     "name": "stdout",
     "output_type": "stream",
     "text": [
      "233168\n"
     ]
    }
   ],
   "source": [
    "# Assignment 22: Find the sum of all the multiples of 3 or 5 below 1000\n",
    "# Sum of multiples of 3\n",
    "total_sum = 0\n",
    "for i in range(1000):\n",
    "    if (i%3 == 0 or i%5 == 0):\n",
    "        total_sum = total_sum+i\n",
    "print total_sum\n",
    "    \n",
    "    "
   ]
  },
  {
   "cell_type": "code",
   "execution_count": 6,
   "metadata": {
    "collapsed": false
   },
   "outputs": [
    {
     "name": "stdout",
     "output_type": "stream",
     "text": [
      "Enter A value: 20\n",
      "Enter B value: 30\n",
      "A is smaller than B\n"
     ]
    }
   ],
   "source": [
    "# Assignment 23: Biggest of two \n",
    "a = input(\"Enter A value: \")\n",
    "b = input(\"Enter B value: \")\n",
    "if a > b:\n",
    "    print \"A is greater than B\"\n",
    "else: \n",
    "    print \"A is smaller than B\""
   ]
  },
  {
   "cell_type": "code",
   "execution_count": 9,
   "metadata": {
    "collapsed": false
   },
   "outputs": [
    {
     "name": "stdout",
     "output_type": "stream",
     "text": [
      "Enter List values: 25,95,54,1526\n",
      "1526\n"
     ]
    }
   ],
   "source": [
    "# Assignment 24: Biggest of given numbers\n",
    "a = []\n",
    "a = input(\"Enter List values: \")\n",
    "print max(a)\n"
   ]
  },
  {
   "cell_type": "code",
   "execution_count": null,
   "metadata": {
    "collapsed": true
   },
   "outputs": [],
   "source": [
    "# Assignment 25: findout third occurance of given substring"
   ]
  },
  {
   "cell_type": "code",
   "execution_count": null,
   "metadata": {
    "collapsed": true
   },
   "outputs": [],
   "source": [
    "# Assignment 26:  findout nth occurance of given substring"
   ]
  },
  {
   "cell_type": "code",
   "execution_count": 1,
   "metadata": {
    "collapsed": false
   },
   "outputs": [
    {
     "name": "stdout",
     "output_type": "stream",
     "text": [
      "Enter digits: 1,2,3,4\n",
      "Max of digits:  4\n",
      "Min of digits:  1\n",
      "sum of digits:  10\n",
      "Average of digits:  2\n"
     ]
    }
   ],
   "source": [
    "# Assignment 27 & 31 : Single digit from user and find max min sum average\n",
    "a = input(\"Enter digits: \")\n",
    "print \"Max of digits: \",max(a)\n",
    "print \"Min of digits: \",min(a)\n",
    "print \"sum of digits: \",sum(a)\n",
    "print \"Average of digits: \",(sum(a)/len(a))\n"
   ]
  },
  {
   "cell_type": "code",
   "execution_count": 3,
   "metadata": {
    "collapsed": false
   },
   "outputs": [
    {
     "name": "stdout",
     "output_type": "stream",
     "text": [
      "Enter a value: 100\n",
      "000100\n",
      "Enter a value: 1000\n",
      "001000\n",
      "Enter a value: 10000\n",
      "010000\n",
      "Enter a value: 123121\n",
      "123121\n"
     ]
    }
   ],
   "source": [
    "# Assignment 28: \n",
    "for i in range(1, 5):\n",
    "    a = raw_input(\"Enter a value: \")\n",
    "    print a.rjust(6, \"0\")\n",
    "    i = i + 1"
   ]
  },
  {
   "cell_type": "code",
   "execution_count": 48,
   "metadata": {
    "collapsed": false
   },
   "outputs": [
    {
     "name": "stdout",
     "output_type": "stream",
     "text": [
      "['emp1', 'emp2', 'emp3', 'emp4']\n",
      "emp1\n",
      "emp2\n",
      "emp3\n",
      "emp4\n"
     ]
    }
   ],
   "source": [
    "# Assignment 29: names  =\"emp1,emp2,emp3,emp4\" iterate through the employee names.\n",
    "names = \"emp1,emp2,emp3,emp4\"\n",
    "print names.split(',')\n",
    "for i in names.split(','):\n",
    "    print i\n"
   ]
  },
  {
   "cell_type": "code",
   "execution_count": null,
   "metadata": {
    "collapsed": true
   },
   "outputs": [],
   "source": [
    "# Assignment 30: Take actual string, soucrce string, destination string. replce first nth occurances of soucestring with destination string of actual \"string operations.ipynb\""
   ]
  },
  {
   "cell_type": "code",
   "execution_count": 4,
   "metadata": {
    "collapsed": false
   },
   "outputs": [
    {
     "name": "stdout",
     "output_type": "stream",
     "text": [
      "[10, 20, 30, 70]\n",
      "[10, 20, 30, 70, 40, 50, 60, 80, 90, 20]\n"
     ]
    }
   ],
   "source": [
    "#Assignment 32 \n",
    "l=[10,20,30,[40,50,60],70,[80,90,20]]\n",
    "l2 = l.pop(3)\n",
    "l3 = l.pop()\n",
    "print l\n",
    "l4 = l+l2+l3\n",
    "print l4"
   ]
  },
  {
   "cell_type": "code",
   "execution_count": 60,
   "metadata": {
    "collapsed": false
   },
   "outputs": [
    {
     "name": "stdout",
     "output_type": "stream",
     "text": [
      "{'e': 1, 'g': 2, 'o': 2, 'l': 1}\n"
     ]
    }
   ],
   "source": [
    "#Assignment 33: input: \"google\" print count of each character\n",
    "a = \"google\"\n",
    "dict = {}\n",
    "for i in set(a):\n",
    "    b = a.count(i, 0, len(a))\n",
    "    dict[i] = b\n",
    "print dict"
   ]
  },
  {
   "cell_type": "code",
   "execution_count": null,
   "metadata": {
    "collapsed": true
   },
   "outputs": [],
   "source": [
    "# Assignment 34: Convert n dimentional list to single dimentiona list\n"
   ]
  },
  {
   "cell_type": "code",
   "execution_count": 5,
   "metadata": {
    "collapsed": false
   },
   "outputs": [
    {
     "name": "stdout",
     "output_type": "stream",
     "text": [
      "['1', '2', '3']\n"
     ]
    }
   ],
   "source": [
    "# Assignment 35:\n",
    "l = [1,2,3]\n",
    "st1 = [str(item) for item in l]\n",
    "print st1"
   ]
  },
  {
   "cell_type": "code",
   "execution_count": 7,
   "metadata": {
    "collapsed": false
   },
   "outputs": [
    {
     "name": "stdout",
     "output_type": "stream",
     "text": [
      "[1, 2, 3, 7]\n",
      "[1, 2, 3, 7, 4, 5, 6, 8, 9, 10]\n"
     ]
    }
   ],
   "source": [
    "#Assignment 36: \n",
    "l=[1,2,3,[4,5,6],7,[8,9,10]]\n",
    "l2 = l.pop(3)\n",
    "l3 = l.pop()\n",
    "print l\n",
    "l4 = l+l2+l3\n",
    "print l4\n"
   ]
  },
  {
   "cell_type": "code",
   "execution_count": null,
   "metadata": {
    "collapsed": true
   },
   "outputs": [],
   "source": [
    "ssignment 37: l=['a','A','b','B','d','D','c','C'] WAP to find out case insensitive count and case insensitive search for an element.\n",
    "l=['a','A','b','B','d','D','c','C']"
   ]
  },
  {
   "cell_type": "code",
   "execution_count": 8,
   "metadata": {
    "collapsed": false
   },
   "outputs": [
    {
     "name": "stdout",
     "output_type": "stream",
     "text": [
      "['A', 'B', 'C', 'D', 'a', 'b', 'c', 'd']\n"
     ]
    }
   ],
   "source": [
    "# Assignment 38 : l=['a','A','b','B','d','D','c','C']  sort the list properly\n",
    "l=['a','A','b','B','d','D','c','C']\n",
    "l.sort()\n",
    "print l"
   ]
  },
  {
   "cell_type": "code",
   "execution_count": null,
   "metadata": {
    "collapsed": true
   },
   "outputs": [],
   "source": [
    "# Assignment 39: find the start position of the largest block of repeated characters in a given string\n"
   ]
  },
  {
   "cell_type": "code",
   "execution_count": 10,
   "metadata": {
    "collapsed": false
   },
   "outputs": [
    {
     "name": "stdout",
     "output_type": "stream",
     "text": [
      "Union of l1 and l2:  [3, 5, 6]\n",
      "Intersection of l1 and l2:  [1, 3, 5, 6, 7, 21, 33]\n"
     ]
    }
   ],
   "source": [
    "# Assignment 40:  WAP to find union and intersection of lists.\n",
    "l1 = [1,3,5,6,7,1]\n",
    "l2 = [3,6,33,21,5]\n",
    "print \"Union of l1 and l2: \", list(set(l1) & set(l2))\n",
    "print \"Intersection of l1 and l2: \", list(set(l1) | set(l2))"
   ]
  },
  {
   "cell_type": "code",
   "execution_count": null,
   "metadata": {
    "collapsed": true
   },
   "outputs": [],
   "source": [
    "# Assignement 41: input: fun(5) output: [1,2,3,4,3,2,1]"
   ]
  },
  {
   "cell_type": "code",
   "execution_count": null,
   "metadata": {
    "collapsed": true
   },
   "outputs": [],
   "source": [
    "# Assignment 42: input fun('abc') output: [[],][a],[b],[c],[a,b],[b,c],[c,a],[a,b,c]"
   ]
  },
  {
   "cell_type": "code",
   "execution_count": 11,
   "metadata": {
    "collapsed": false
   },
   "outputs": [
    {
     "name": "stdout",
     "output_type": "stream",
     "text": [
      "Unique values of list a:  [1, 2, 3, 4]\n"
     ]
    }
   ],
   "source": [
    "#Assignment 43: Remove duplicates from the list: a=[1,2,3,2,3,4,1,,3,4]\n",
    "a=[1,2,3,2,3,4,1,3,4]\n",
    "print \"Unique values of list a: \", list(set(a))"
   ]
  },
  {
   "cell_type": "code",
   "execution_count": 12,
   "metadata": {
    "collapsed": false
   },
   "outputs": [
    {
     "name": "stdout",
     "output_type": "stream",
     "text": [
      "6\n"
     ]
    }
   ],
   "source": [
    "# Assignment 44: l=['1','2','3'] get the sum of the list\n",
    "l=['1','2','3'] \n",
    "l2 = [int(item) for item in l]\n",
    "sum = l2[0]+l2[1]+l2[2]\n",
    "print sum\n"
   ]
  },
  {
   "cell_type": "code",
   "execution_count": 13,
   "metadata": {
    "collapsed": false
   },
   "outputs": [
    {
     "name": "stdout",
     "output_type": "stream",
     "text": [
      "[(1, 5), (2, 6), (3, 7), (4, 8)]\n",
      "6\n",
      "8\n",
      "10\n",
      "12\n"
     ]
    }
   ],
   "source": [
    "# Assignment 45: l1=[1,2,3,4] l2=[5,6,7,8] sum of two lists\n",
    "l1=[1,2,3,4] \n",
    "l2=[5,6,7,8]\n",
    "print zip(l1,l2)\n",
    "for i in zip(l1,l2):\n",
    "    print i[0]+i[1]"
   ]
  },
  {
   "cell_type": "code",
   "execution_count": 14,
   "metadata": {
    "collapsed": false
   },
   "outputs": [
    {
     "name": "stdout",
     "output_type": "stream",
     "text": [
      "[9, 8, 7, 5, 4, 3, 2, 1]\n",
      "Third Max value in the list is:  7\n"
     ]
    }
   ],
   "source": [
    "# Assignment 46: Find third max value of element in a list with sorting and without sorting a list.\n",
    "l = [3,5,7,2,4,8,9,1]\n",
    "l2 = sorted(l, reverse=True)\n",
    "print l2\n",
    "print \"Third Max value in the list is: \", l2[2]"
   ]
  },
  {
   "cell_type": "code",
   "execution_count": 16,
   "metadata": {
    "collapsed": false
   },
   "outputs": [
    {
     "name": "stdout",
     "output_type": "stream",
     "text": [
      "[1, 2, 3, 4, 5, 342, 2342, 2323, 456]\n",
      "[1, 2, 3, 4, 5, 342, 2323, 456]\n",
      "Third Max value in the list:  2323\n"
     ]
    }
   ],
   "source": [
    "# Above example with out sorting\n",
    "l = [1,2,3,4,5,342,2342,2342,2323,456]\n",
    "l2 = max(l)\n",
    "l3 = l.index(l2)\n",
    "l.pop(l3)\n",
    "print l\n",
    "l4 = max(l)\n",
    "l5 = l.index(l4)\n",
    "l.pop(l5)\n",
    "print l\n",
    "l6 = max(l)\n",
    "print \"Third Max value in the list: \", l6"
   ]
  },
  {
   "cell_type": "code",
   "execution_count": null,
   "metadata": {
    "collapsed": true
   },
   "outputs": [],
   "source": [
    "# Assignemnt 47: Input = [\"1/1\",\"1/2\",\"1/3\",\"1/4\",\"2/5\",\"2/6\",\"2/8\"] Output = [['1/1-4'], ['2/5-6'], ['2/8']]"
   ]
  },
  {
   "cell_type": "code",
   "execution_count": null,
   "metadata": {
    "collapsed": true
   },
   "outputs": [],
   "source": [
    "# Assignment 48: l=[1,2,3,5,7,8,9,10,11,12,13,20,22,23,24,25,26,27,20,21,22,4] output = [[1, 2, 3], [5], [7, 8, 9, 10, 11, 12, 13], [20], [22, 23, 24, 25, 26, 27], [20, 21, 22], [4]]"
   ]
  },
  {
   "cell_type": "code",
   "execution_count": null,
   "metadata": {
    "collapsed": true
   },
   "outputs": [],
   "source": [
    "#Assignment 49: Even odd\n",
    "a = [1,2,3,4,5]\n",
    "print a\n",
    "b = []\n",
    "for i in a:\n",
    "    if (i % 2)== 0:\n",
    "        b.insert(i,\"Even Number\")\n",
    "    else:\n",
    "        b.insert(i,\"Odd number\")\n",
    "print b"
   ]
  },
  {
   "cell_type": "code",
   "execution_count": null,
   "metadata": {
    "collapsed": true
   },
   "outputs": [],
   "source": [
    "# Assignment 50: input n=3  output: \t111 \t\t101 \t\t111"
   ]
  },
  {
   "cell_type": "code",
   "execution_count": 21,
   "metadata": {
    "collapsed": false
   },
   "outputs": [
    {
     "data": {
      "text/plain": [
       "{'e': 1, 'g': 2, 'l': 1, 'o': 2}"
      ]
     },
     "execution_count": 21,
     "metadata": {},
     "output_type": "execute_result"
    }
   ],
   "source": [
    "# Assignemnt 51: input: google output: {'g':2,'o':2,'l':1,'e':1} use dictionary comprehension\n",
    "a=\"google\"\n",
    "{char:a.count(char) for char in a}\n",
    "        "
   ]
  },
  {
   "cell_type": "code",
   "execution_count": null,
   "metadata": {
    "collapsed": true
   },
   "outputs": [],
   "source": [
    "# Assignemnt 52: keys=['k1','k2'], values = ['v1','v2'] form a dictionary."
   ]
  },
  {
   "cell_type": "code",
   "execution_count": null,
   "metadata": {
    "collapsed": true
   },
   "outputs": [],
   "source": [
    "# Assignemnt 53: Sort the list marks = [(\"mohan\", 80), (\"satish\", 90), (\"purnesh\", 40), (\"venkat\", 30)] acording to descending order of marks"
   ]
  },
  {
   "cell_type": "code",
   "execution_count": null,
   "metadata": {
    "collapsed": true
   },
   "outputs": [],
   "source": [
    "# Assignemnt 54:write a function to get dynamic list for floating numbers also based on strat and end and step parameters"
   ]
  },
  {
   "cell_type": "code",
   "execution_count": null,
   "metadata": {
    "collapsed": true
   },
   "outputs": [],
   "source": [
    "# Assignemnt 55: find out all perfect numbers in given range"
   ]
  },
  {
   "cell_type": "code",
   "execution_count": null,
   "metadata": {
    "collapsed": true
   },
   "outputs": [],
   "source": [
    "# Assignemnt 56: WAP to do all stack operations using lists"
   ]
  },
  {
   "cell_type": "code",
   "execution_count": null,
   "metadata": {
    "collapsed": true
   },
   "outputs": [],
   "source": [
    "# Assignemnt 57:WAP to do all queue operations using lists"
   ]
  },
  {
   "cell_type": "code",
   "execution_count": null,
   "metadata": {
    "collapsed": true
   },
   "outputs": [],
   "source": [
    "# Assignemnt 58:WAP to remove n occurances of specified element from a list"
   ]
  },
  {
   "cell_type": "code",
   "execution_count": null,
   "metadata": {
    "collapsed": true
   },
   "outputs": [],
   "source": [
    "# Assignemnt 59:copy 1 file content in to another file(Take the source and destination file path from the user)"
   ]
  },
  {
   "cell_type": "code",
   "execution_count": null,
   "metadata": {
    "collapsed": true
   },
   "outputs": [],
   "source": [
    "'''\n",
    "Assignemnt 60: Show the below menu to the user:\n",
    "     1. Add a row\n",
    "     2. modify a row\n",
    "     3. delete a row\n",
    "     Go with one unique field in the file. And maintain that unique constraint in all file modifiction operations\n",
    "     Use .CSV file for this program"
   ]
  },
  {
   "cell_type": "code",
   "execution_count": null,
   "metadata": {
    "collapsed": true
   },
   "outputs": [],
   "source": [
    "# Assignemnt 61:number of lines, words, characters"
   ]
  },
  {
   "cell_type": "code",
   "execution_count": null,
   "metadata": {
    "collapsed": true
   },
   "outputs": [],
   "source": [
    "# Assginment 62:convert .txt file in .json"
   ]
  },
  {
   "cell_type": "code",
   "execution_count": null,
   "metadata": {
    "collapsed": true
   },
   "outputs": [],
   "source": [
    "# Assignment 63:Take three columns disease, symptoms, advice in a file and fill the details\n",
    "\tAsk the user to enter symptoms. Based on this symptoms Suggest the user to what disease it may be and few advices."
   ]
  },
  {
   "cell_type": "code",
   "execution_count": null,
   "metadata": {
    "collapsed": true
   },
   "outputs": [],
   "source": [
    "# Assignment 64: Take employees info (id,name, age, adress, sal, height, weight)\n",
    "\ta. Take id, provide employee information for that id.\n",
    "\tb. find out average salary.\n",
    "\tc. find out which age, address taking the heighest salary \n",
    "\td. find out every employee BMI value\n",
    "\te. Finally find out the Organization overall BMI"
   ]
  },
  {
   "cell_type": "code",
   "execution_count": null,
   "metadata": {
    "collapsed": true
   },
   "outputs": [],
   "source": [
    "# Assignment 65: read the file which contains the size greater than your ram size"
   ]
  },
  {
   "cell_type": "code",
   "execution_count": null,
   "metadata": {
    "collapsed": true
   },
   "outputs": [],
   "source": [
    "# Assignment 66:Read ten gb movie\n",
    "\n"
   ]
  },
  {
   "cell_type": "code",
   "execution_count": null,
   "metadata": {
    "collapsed": true
   },
   "outputs": [],
   "source": [
    "'''\n",
    "Assignment 67: Collect nexii emp information in a file Provide these operations.\n",
    "    \n",
    "    Menu:\n",
    "     1. Get information information of an employee\n",
    "     2. Modify employee information\n",
    "     3. delete an employee information (Only status field change in the employee file)\n",
    "     4. Add an employee."
   ]
  },
  {
   "cell_type": "code",
   "execution_count": null,
   "metadata": {
    "collapsed": true
   },
   "outputs": [],
   "source": [
    "# Assignment 68:Take Source and destination file paths from command line arguments and copy the sourcontent into destination.\n",
    "#Make Sure that your program checking the below conditions.\n",
    "#     1.if the source file not there. Should ask the user to enter new source file or want to quit a program\n",
    "#     2.if the destination file already there in the specified path. Should warn the user want to proceed or want to enter new destination file name or want to quit\n"
   ]
  },
  {
   "cell_type": "code",
   "execution_count": null,
   "metadata": {
    "collapsed": true
   },
   "outputs": [],
   "source": [
    "'''\n",
    "Assignment 69: Bulk file copy. \n",
    "     Take source and destination file paths from a file and copy the source file content into destination file.\n",
    "     Maintain configuration file and put the below fields there\n",
    "      Source not found: Skip the copy\n",
    "      destination found: skip/replace\n",
    "     maintain a remarks log. What are the files skiped from copy because no source file found. What are the files skip/replaced because of destination file foun in the specified path\n",
    "'''"
   ]
  },
  {
   "cell_type": "code",
   "execution_count": null,
   "metadata": {
    "collapsed": true
   },
   "outputs": [],
   "source": [
    "# Assignment 70:  create user table in databaes with id,name columns and insert the below data in to table\n",
    "# take a list [2,'name2']\n",
    "# take a dictionary: {'id':3,\"name\":'name3'}\n",
    "# string \"4;name4\"\n",
    "# [{'id':5,'name':'name5'},{'id':6,\"name\":'name6'}]"
   ]
  },
  {
   "cell_type": "code",
   "execution_count": null,
   "metadata": {
    "collapsed": true
   },
   "outputs": [],
   "source": [
    "'''\n",
    "Assignment 71: Wap program to operate below menu by user by connecting a remote system.\n",
    "Program should ask for below details.\n",
    "host:\n",
    "user:\n",
    "password:\n",
    "sudo password:\n",
    "take the details connect to remote system and operate this menu: \n",
    "1. list the softwares installed \n",
    "2. kill a process\n",
    "3. restart the remote system\n",
    " 4. Ram usage\n",
    " 5. CPU usage\n",
    " 6. Free space in specified disk\n",
    " 7. restart the process\n",
    " 8. check whether speciifed software installed in the remote system or not.\n",
    " 9. Pass the software and installtion steps to remote system and install the softwre in remote system.\n",
    " '''"
   ]
  },
  {
   "cell_type": "code",
   "execution_count": null,
   "metadata": {
    "collapsed": true
   },
   "outputs": [],
   "source": [
    "# Assignment 72:  Migrate the data from one database management system to another database management system"
   ]
  }
 ],
 "metadata": {
  "kernelspec": {
   "display_name": "Python 2",
   "language": "python",
   "name": "python2"
  },
  "language_info": {
   "codemirror_mode": {
    "name": "ipython",
    "version": 2
   },
   "file_extension": ".py",
   "mimetype": "text/x-python",
   "name": "python",
   "nbconvert_exporter": "python",
   "pygments_lexer": "ipython2",
   "version": "2.7.13"
  }
 },
 "nbformat": 4,
 "nbformat_minor": 2
}
