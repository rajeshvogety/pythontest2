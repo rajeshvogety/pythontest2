{
 "cells": [
  {
   "cell_type": "code",
   "execution_count": null,
   "metadata": {
    "collapsed": true
   },
   "outputs": [],
   "source": [
    "# Need to write 29, 30, 33, 34,37,39, 41, 42, 47, 48, 50"
   ]
  },
  {
   "cell_type": "code",
   "execution_count": 1,
   "metadata": {
    "collapsed": false
   },
   "outputs": [
    {
     "name": "stdout",
     "output_type": "stream",
     "text": [
      "Enter digits: 3,5,1,4\n",
      "Max of digits:  5\n",
      "Min of digits:  1\n",
      "sum of digits:  13\n",
      "Average of digits:  3\n"
     ]
    }
   ],
   "source": [
    "# Assignment 27 & 31 : Single digit from user and find max min sum average\n",
    "a = input(\"Enter digits: \")\n",
    "print \"Max of digits: \",max(a)\n",
    "print \"Min of digits: \",min(a)\n",
    "print \"sum of digits: \",sum(a)\n",
    "print \"Average of digits: \",(sum(a)/len(a))\n",
    "\n",
    "\n",
    "\n"
   ]
  },
  {
   "cell_type": "code",
   "execution_count": 8,
   "metadata": {
    "collapsed": false
   },
   "outputs": [
    {
     "name": "stdout",
     "output_type": "stream",
     "text": [
      "Enter a value: 10\n",
      "000010\n",
      "Enter a value: 100\n",
      "000100\n",
      "Enter a value: 1000\n",
      "001000\n",
      "Enter a value: 234567\n",
      "234567\n"
     ]
    }
   ],
   "source": [
    "# Assignment 28: \n",
    "for i in range(1, 5):\n",
    "    a = raw_input(\"Enter a value: \")\n",
    "    print a.rjust(6, \"0\")\n",
    "    i = i + 1\n",
    "    \n"
   ]
  },
  {
   "cell_type": "code",
   "execution_count": null,
   "metadata": {
    "collapsed": true
   },
   "outputs": [],
   "source": [
    "# Assignment 29: names  =\"emp1,emp2,emp3,emp4\" iterate through the employee names.\n",
    "names = \"emp1,emp2,emp3,emp4\"\n"
   ]
  },
  {
   "cell_type": "code",
   "execution_count": null,
   "metadata": {
    "collapsed": true
   },
   "outputs": [],
   "source": [
    "# Assignment 30: Take actual string, soucrce string, destination string. replce first nth occurances of soucestring with destination string of actual string"
   ]
  },
  {
   "cell_type": "code",
   "execution_count": 21,
   "metadata": {
    "collapsed": false
   },
   "outputs": [
    {
     "name": "stdout",
     "output_type": "stream",
     "text": [
      "[10, 20, 30, 70]\n",
      "[10, 20, 30, 70, 40, 50, 60, 80, 90, 20]\n"
     ]
    }
   ],
   "source": [
    "#Assignment 32 \n",
    "l=[10,20,30,[40,50,60],70,[80,90,20]]\n",
    "l2 = l.pop(3)\n",
    "l3 = l.pop()\n",
    "print l\n",
    "l4 = l+l2+l3\n",
    "print l4"
   ]
  },
  {
   "cell_type": "code",
   "execution_count": null,
   "metadata": {
    "collapsed": true
   },
   "outputs": [],
   "source": [
    "#Assignment 33: input: \"google\" print count of each character\n",
    "a = raw_input(\"Enter a string: \")\n",
    "for i in a:\n",
    "    \n",
    "\n"
   ]
  },
  {
   "cell_type": "code",
   "execution_count": null,
   "metadata": {
    "collapsed": true
   },
   "outputs": [],
   "source": [
    "# Assignment 34: Convert n dimentional list to single dimentiona list."
   ]
  },
  {
   "cell_type": "code",
   "execution_count": 11,
   "metadata": {
    "collapsed": false
   },
   "outputs": [
    {
     "name": "stdout",
     "output_type": "stream",
     "text": [
      "['1', '2', '3']\n"
     ]
    }
   ],
   "source": [
    "# Assignment 35:\n",
    "l = [1,2,3]\n",
    "st1 = [str(item) for item in l]\n",
    "print st1"
   ]
  },
  {
   "cell_type": "code",
   "execution_count": 2,
   "metadata": {
    "collapsed": false
   },
   "outputs": [
    {
     "name": "stdout",
     "output_type": "stream",
     "text": [
      "[1, 2, 3, 7]\n",
      "[1, 2, 3, 7, 4, 5, 6, 8, 9, 10]\n"
     ]
    }
   ],
   "source": [
    "#Assignment 36: \n",
    "l=[1,2,3,[4,5,6],7,[8,9,10]]\n",
    "l2 = l.pop(3)\n",
    "l3 = l.pop()\n",
    "print l\n",
    "l4 = l+l2+l3\n",
    "print l4\n"
   ]
  },
  {
   "cell_type": "code",
   "execution_count": null,
   "metadata": {
    "collapsed": true
   },
   "outputs": [],
   "source": [
    "# Assignment 37: l=['a','A','b','B','d','D','c','C'] WAP to find out case insensitive count and case insensitive search for an element.\n",
    "l=['a','A','b','B','d','D','c','C']\n"
   ]
  },
  {
   "cell_type": "code",
   "execution_count": 19,
   "metadata": {
    "collapsed": false
   },
   "outputs": [
    {
     "name": "stdout",
     "output_type": "stream",
     "text": [
      "['A', 'B', 'C', 'D', 'a', 'b', 'c', 'd']\n"
     ]
    }
   ],
   "source": [
    "# Assignment 38 : l=['a','A','b','B','d','D','c','C']  sort the list properly\n",
    "l=['a','A','b','B','d','D','c','C']\n",
    "l.sort()\n",
    "print l\n"
   ]
  },
  {
   "cell_type": "code",
   "execution_count": null,
   "metadata": {
    "collapsed": true
   },
   "outputs": [],
   "source": [
    "# Assignment 39: find the start position of the largest block of repeated characters in a given string\n"
   ]
  },
  {
   "cell_type": "code",
   "execution_count": 7,
   "metadata": {
    "collapsed": false
   },
   "outputs": [
    {
     "name": "stdout",
     "output_type": "stream",
     "text": [
      "Union of l1 and l2:  [3, 5, 6]\n",
      "Intersection of l1 and l2:  [1, 3, 5, 6, 7, 21, 33]\n"
     ]
    }
   ],
   "source": [
    "# Assignment 40:  WAP to find union and intersection of lists.\n",
    "l1 = [1,3,5,6,7,1]\n",
    "l2 = [3,6,33,21,5]\n",
    "print \"Union of l1 and l2: \", list(set(l1) & set(l2))\n",
    "print \"Intersection of l1 and l2: \", list(set(l1) | set(l2))\n"
   ]
  },
  {
   "cell_type": "code",
   "execution_count": null,
   "metadata": {
    "collapsed": true
   },
   "outputs": [],
   "source": [
    "# Assignement 41: input: fun(5) output: [1,2,3,4,3,2,1]"
   ]
  },
  {
   "cell_type": "code",
   "execution_count": null,
   "metadata": {
    "collapsed": true
   },
   "outputs": [],
   "source": [
    "# Assignment 42: input fun('abc') output: [[],][a],[b],[c],[a,b],[b,c],[c,a],[a,b,c]]\n"
   ]
  },
  {
   "cell_type": "code",
   "execution_count": 10,
   "metadata": {
    "collapsed": false
   },
   "outputs": [
    {
     "name": "stdout",
     "output_type": "stream",
     "text": [
      "Unique values of list a:  [1, 2, 3, 4]\n"
     ]
    }
   ],
   "source": [
    "#Assignment 43: Remove duplicates from the list: a=[1,2,3,2,3,4,1,,3,4]\n",
    "a=[1,2,3,2,3,4,1,3,4]\n",
    "print \"Unique values of list a: \", list(set(a))"
   ]
  },
  {
   "cell_type": "code",
   "execution_count": 17,
   "metadata": {
    "collapsed": false
   },
   "outputs": [
    {
     "name": "stdout",
     "output_type": "stream",
     "text": [
      "[1, 2, 3]\n",
      "6\n"
     ]
    }
   ],
   "source": [
    "# Assignment 44: l=['1','2','3'] get the sum of the list\n",
    "l=['1','2','3'] \n",
    "l2 = [int(item) for item in l]\n",
    "sum = l2[0]+l2[1]+l2[2]\n",
    "print sum\n"
   ]
  },
  {
   "cell_type": "code",
   "execution_count": 2,
   "metadata": {
    "collapsed": false
   },
   "outputs": [
    {
     "name": "stdout",
     "output_type": "stream",
     "text": [
      "[(1, 5), (2, 6), (3, 7), (4, 8)]\n",
      "6\n",
      "8\n",
      "10\n",
      "12\n"
     ]
    }
   ],
   "source": [
    "# Assignment 45: l1=[1,2,3,4] l2=[5,6,7,8] sum of two lists\n",
    "l1=[1,2,3,4] \n",
    "l2=[5,6,7,8]\n",
    "print zip(l1,l2)\n",
    "for i in zip(l1,l2):\n",
    "    print i[0]+i[1]\n"
   ]
  },
  {
   "cell_type": "code",
   "execution_count": 26,
   "metadata": {
    "collapsed": false
   },
   "outputs": [
    {
     "name": "stdout",
     "output_type": "stream",
     "text": [
      "[9, 8, 7, 5, 4, 3, 2, 1]\n",
      "Third Max value in the list is:  7\n"
     ]
    }
   ],
   "source": [
    "# Assignment 46: Find third max value of element in a list with sorting and without sorting a list.\n",
    "l = [3,5,7,2,4,8,9,1]\n",
    "l2 = sorted(l, reverse=True)\n",
    "print l2\n",
    "print \"Third Max value in the list is: \", l2[2]"
   ]
  },
  {
   "cell_type": "code",
   "execution_count": null,
   "metadata": {
    "collapsed": false
   },
   "outputs": [],
   "source": [
    "a = True\n",
    "n = 0\n",
    "while a == True:                           #  To loop the following commands \n",
    "    running = True\n",
    "    while running == True:\n",
    "        r = 0\n",
    "        n =  n+ 1\n",
    "        for x in range(1,n + 1):\n",
    "            if n%x == 0:                   #  To determine the factors of n\n",
    "                r = r + x\n",
    "                if x == n:\n",
    "                    if  r == 2*n:\n",
    "                        print n\n",
    "                        running = False\n",
    "                    else:\n",
    "                        running = False"
   ]
  },
  {
   "cell_type": "code",
   "execution_count": 14,
   "metadata": {
    "collapsed": false
   },
   "outputs": [],
   "source": [
    "for n in range(1, 101):\n",
    "    for i in range(2, n/2 + 1):\n",
    "        if sum(i) == n-1:\n",
    "            \n",
    "for i in range(1,100):\n",
    "    for j in range (1, i):\n",
    "        if i % j == 0:\n",
    "            j = j+1\n",
    "            sum = sum + i\n",
    "if sum == j:\n",
    "    print j\n",
    "            "
   ]
  },
  {
   "cell_type": "code",
   "execution_count": 6,
   "metadata": {
    "collapsed": false
   },
   "outputs": [
    {
     "name": "stdout",
     "output_type": "stream",
     "text": [
      "6\n",
      "28\n",
      "496\n"
     ]
    }
   ],
   "source": [
    "for n in range(2, 1001):\n",
    "    if sum(i for i in range(2, n/2 + 1) if n % i == 0) == n -1:\n",
    "        print n\n",
    "    "
   ]
  },
  {
   "cell_type": "code",
   "execution_count": 21,
   "metadata": {
    "collapsed": false
   },
   "outputs": [
    {
     "name": "stdout",
     "output_type": "stream",
     "text": [
      "[1, 2, 3, 4, 5, 342, 2342, 2323, 456]\n",
      "[1, 2, 3, 4, 5, 342, 2323, 456]\n",
      "Third Max value in the list:  2323\n"
     ]
    }
   ],
   "source": [
    "# without sorting\n",
    "l = [1,2,3,4,5,342,2342,2342,2323,456]\n",
    "l2 = max(l)\n",
    "l3 = l.index(l2)\n",
    "l.pop(l3)\n",
    "print l\n",
    "l4 = max(l)\n",
    "l5 = l.index(l4)\n",
    "l.pop(l5)\n",
    "print l\n",
    "l6 = max(l)\n",
    "print \"Third Max value in the list: \", l6\n",
    "\n",
    "    "
   ]
  },
  {
   "cell_type": "code",
   "execution_count": null,
   "metadata": {
    "collapsed": true
   },
   "outputs": [],
   "source": [
    "# Assignemnt 47: Input = [\"1/1\",\"1/2\",\"1/3\",\"1/4\",\"2/5\",\"2/6\",\"2/8\"] Output = [['1/1-4'], ['2/5-6'], ['2/8']]"
   ]
  },
  {
   "cell_type": "code",
   "execution_count": null,
   "metadata": {
    "collapsed": true
   },
   "outputs": [],
   "source": [
    "# Assignment 48: "
   ]
  },
  {
   "cell_type": "code",
   "execution_count": 44,
   "metadata": {
    "collapsed": false
   },
   "outputs": [
    {
     "name": "stdout",
     "output_type": "stream",
     "text": [
      "[1, 2, 3, 4, 5]\n",
      "['Odd number', 'Even Number', 'Odd number', 'Even Number', 'Odd number']\n"
     ]
    }
   ],
   "source": [
    "#Assignment 49: Even odd\n",
    "a = [1,2,3,4,5]\n",
    "print a\n",
    "b = []\n",
    "for i in a:\n",
    "    if (i % 2)== 0:\n",
    "        b.insert(i,\"Even Number\")\n",
    "    else:\n",
    "        b.insert(i,\"Odd number\")\n",
    "print b\n",
    "        \n"
   ]
  },
  {
   "cell_type": "code",
   "execution_count": null,
   "metadata": {
    "collapsed": true
   },
   "outputs": [],
   "source": [
    "# Assignment 50: input n=3  output: \t111 \t\t101 \t\t111"
   ]
  },
  {
   "cell_type": "code",
   "execution_count": null,
   "metadata": {
    "collapsed": true
   },
   "outputs": [],
   "source": []
  }
 ],
 "metadata": {
  "kernelspec": {
   "display_name": "Python 2",
   "language": "python",
   "name": "python2"
  },
  "language_info": {
   "codemirror_mode": {
    "name": "ipython",
    "version": 2
   },
   "file_extension": ".py",
   "mimetype": "text/x-python",
   "name": "python",
   "nbconvert_exporter": "python",
   "pygments_lexer": "ipython2",
   "version": "2.7.13"
  }
 },
 "nbformat": 4,
 "nbformat_minor": 2
}
